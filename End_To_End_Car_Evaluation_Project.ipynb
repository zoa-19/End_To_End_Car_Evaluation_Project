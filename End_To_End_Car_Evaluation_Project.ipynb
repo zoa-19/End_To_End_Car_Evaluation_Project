{
 "cells": [
  {
   "cell_type": "markdown",
   "metadata": {},
   "source": [
    "# 🚗 Predicting the value of Cars using Machine Learning\n",
    "\n",
    "In this project, we're going to focus on K-Nearest Neighbor(KNN) Classifier with a goal of predicting the value of cars.\n",
    "\n",
    "## Problem Definition\n",
    "\n",
    "> How well can we predict the future value of cars, given its characteristics and their cost of maintenance?\n",
    "\n",
    "## Data\n",
    "\n",
    "> This data is downloaded from Kaggle : https://www.kaggle.com/elikplim/car-evaluation-data-set\n",
    "\n",
    "> It is also available in UCI Machine Learning Repository : https://archive.ics.uci.edu/ml/datasets/Car+Evaluation\n",
    "\n",
    "> Car Evaluation Database was derived from a simple hierarchical decision model originally developed for the demonstration of DEX, M. Bohanec, V. Rajkovic: Expert system for decision making. Sistemica 1(1), pp. 145-157, 1990.). The model evaluates cars according to the following concept structure:\n",
    "\n",
    "> **CAR car acceptability**\n",
    "> * PRICE overall price\n",
    "> * buying buying price\n",
    "> * maint price of the maintenance\n",
    "\n",
    ">**TECH technical characteristics**\n",
    "> * COMFORT comfort\n",
    "> * doors number of doors\n",
    "> * persons capacity in terms of persons to carry\n",
    "> * lug_boot the size of luggage boot\n",
    "> * safety estimated safety of the car\n",
    "\n",
    "## Features\n",
    "\n",
    ">**Attribute Information:**\n",
    "\n",
    ">Class Values:\n",
    "> * unacc, acc, good, vgood\n",
    "\n",
    ">Attributes:\n",
    "> * buying: vhigh, high, med, low.\n",
    "> * maint: vhigh, high, med, low.\n",
    "> * doors: 2, 3, 4, 5more.\n",
    "> * persons: 2, 4, more.\n",
    "> * lug_boot: small, med, big.\n",
    "> * safety: low, med, high."
   ]
  },
  {
   "cell_type": "code",
   "execution_count": 1,
   "metadata": {},
   "outputs": [],
   "source": [
    "# importing libraries\n",
    "import pandas as pd \n",
    "import numpy as np\n",
    "import matplotlib.pyplot as plt\n",
    "import seaborn as sns\n",
    "sns.set()"
   ]
  },
  {
   "cell_type": "code",
   "execution_count": 34,
   "metadata": {},
   "outputs": [
    {
     "data": {
      "text/html": [
       "<div>\n",
       "<style scoped>\n",
       "    .dataframe tbody tr th:only-of-type {\n",
       "        vertical-align: middle;\n",
       "    }\n",
       "\n",
       "    .dataframe tbody tr th {\n",
       "        vertical-align: top;\n",
       "    }\n",
       "\n",
       "    .dataframe thead th {\n",
       "        text-align: right;\n",
       "    }\n",
       "</style>\n",
       "<table border=\"1\" class=\"dataframe\">\n",
       "  <thead>\n",
       "    <tr style=\"text-align: right;\">\n",
       "      <th></th>\n",
       "      <th>Buying_Price</th>\n",
       "      <th>Maintenance_Cost</th>\n",
       "      <th>No_of_Doors</th>\n",
       "      <th>No_of_Persons</th>\n",
       "      <th>Lug_Boot</th>\n",
       "      <th>Safety</th>\n",
       "      <th>Decision</th>\n",
       "    </tr>\n",
       "  </thead>\n",
       "  <tbody>\n",
       "    <tr>\n",
       "      <th>0</th>\n",
       "      <td>vhigh</td>\n",
       "      <td>vhigh</td>\n",
       "      <td>2</td>\n",
       "      <td>2</td>\n",
       "      <td>small</td>\n",
       "      <td>med</td>\n",
       "      <td>unacc</td>\n",
       "    </tr>\n",
       "    <tr>\n",
       "      <th>1</th>\n",
       "      <td>vhigh</td>\n",
       "      <td>vhigh</td>\n",
       "      <td>2</td>\n",
       "      <td>2</td>\n",
       "      <td>small</td>\n",
       "      <td>high</td>\n",
       "      <td>unacc</td>\n",
       "    </tr>\n",
       "    <tr>\n",
       "      <th>2</th>\n",
       "      <td>vhigh</td>\n",
       "      <td>vhigh</td>\n",
       "      <td>2</td>\n",
       "      <td>2</td>\n",
       "      <td>med</td>\n",
       "      <td>low</td>\n",
       "      <td>unacc</td>\n",
       "    </tr>\n",
       "    <tr>\n",
       "      <th>3</th>\n",
       "      <td>vhigh</td>\n",
       "      <td>vhigh</td>\n",
       "      <td>2</td>\n",
       "      <td>2</td>\n",
       "      <td>med</td>\n",
       "      <td>med</td>\n",
       "      <td>unacc</td>\n",
       "    </tr>\n",
       "    <tr>\n",
       "      <th>4</th>\n",
       "      <td>vhigh</td>\n",
       "      <td>vhigh</td>\n",
       "      <td>2</td>\n",
       "      <td>2</td>\n",
       "      <td>med</td>\n",
       "      <td>high</td>\n",
       "      <td>unacc</td>\n",
       "    </tr>\n",
       "  </tbody>\n",
       "</table>\n",
       "</div>"
      ],
      "text/plain": [
       "  Buying_Price Maintenance_Cost No_of_Doors No_of_Persons Lug_Boot Safety  \\\n",
       "0        vhigh            vhigh           2             2    small    med   \n",
       "1        vhigh            vhigh           2             2    small   high   \n",
       "2        vhigh            vhigh           2             2      med    low   \n",
       "3        vhigh            vhigh           2             2      med    med   \n",
       "4        vhigh            vhigh           2             2      med   high   \n",
       "\n",
       "  Decision  \n",
       "0    unacc  \n",
       "1    unacc  \n",
       "2    unacc  \n",
       "3    unacc  \n",
       "4    unacc  "
      ]
     },
     "execution_count": 34,
     "metadata": {},
     "output_type": "execute_result"
    }
   ],
   "source": [
    "df = pd.read_csv('car_evaluation_ren.csv')\n",
    "df.head()"
   ]
  },
  {
   "cell_type": "code",
   "execution_count": 35,
   "metadata": {},
   "outputs": [
    {
     "data": {
      "text/plain": [
       "(1727, 7)"
      ]
     },
     "execution_count": 35,
     "metadata": {},
     "output_type": "execute_result"
    }
   ],
   "source": [
    "df.shape"
   ]
  },
  {
   "cell_type": "code",
   "execution_count": 36,
   "metadata": {},
   "outputs": [
    {
     "name": "stdout",
     "output_type": "stream",
     "text": [
      "<class 'pandas.core.frame.DataFrame'>\n",
      "RangeIndex: 1727 entries, 0 to 1726\n",
      "Data columns (total 7 columns):\n",
      " #   Column            Non-Null Count  Dtype \n",
      "---  ------            --------------  ----- \n",
      " 0   Buying_Price      1727 non-null   object\n",
      " 1   Maintenance_Cost  1727 non-null   object\n",
      " 2   No_of_Doors       1727 non-null   object\n",
      " 3   No_of_Persons     1727 non-null   object\n",
      " 4   Lug_Boot          1727 non-null   object\n",
      " 5   Safety            1727 non-null   object\n",
      " 6   Decision          1727 non-null   object\n",
      "dtypes: object(7)\n",
      "memory usage: 94.6+ KB\n"
     ]
    }
   ],
   "source": [
    "df.info()"
   ]
  },
  {
   "cell_type": "markdown",
   "metadata": {},
   "source": [
    "## Data Exploration (exploratory data analysis or EDA)"
   ]
  },
  {
   "cell_type": "code",
   "execution_count": 40,
   "metadata": {},
   "outputs": [
    {
     "data": {
      "image/png": "[encoded data removed]",
      "text/plain": [
       "<Figure size 1440x720 with 6 Axes>"
      ]
     },
     "metadata": {},
     "output_type": "display_data"
    }
   ],
   "source": [
    "fig = plt.figure(figsize=(20,10))\n",
    "\n",
    "fig.add_subplot(2,3,1)\n",
    "sns.countplot(df['Buying_Price'],hue=df['Decision'])\n",
    "\n",
    "fig.add_subplot(2,3,2)\n",
    "sns.countplot(df['Maintenance_Cost'],hue=df['Decision'])\n",
    "\n",
    "fig.add_subplot(2,3,3)\n",
    "sns.countplot(df['No_of_Doors'], hue=df['Decision']);\n",
    "\n",
    "fig.add_subplot(2,3,4)\n",
    "sns.countplot(df['No_of_Persons'], hue=df['Decision'])\n",
    "\n",
    "fig.add_subplot(2,3,5)\n",
    "sns.countplot(df['Lug_Boot'], hue=df['Decision'])\n",
    "\n",
    "fig.add_subplot(2,3,6)\n",
    "sns.countplot(df['Safety'], hue=df['Decision']);"
   ]
  },
  {
   "cell_type": "code",
   "execution_count": 8,
   "metadata": {},
   "outputs": [
    {
     "data": {
      "text/plain": [
       "Buying_Price  Decision\n",
       "high          unacc       324\n",
       "              acc         108\n",
       "low           unacc       258\n",
       "              acc          89\n",
       "              good         46\n",
       "              vgood        39\n",
       "med           unacc       268\n",
       "              acc         115\n",
       "              vgood        26\n",
       "              good         23\n",
       "vhigh         unacc       359\n",
       "              acc          72\n",
       "Name: Decision, dtype: int64"
      ]
     },
     "execution_count": 8,
     "metadata": {},
     "output_type": "execute_result"
    }
   ],
   "source": [
    "df.groupby('Buying_Price')['Decision'].value_counts()"
   ]
  },
  {
   "cell_type": "code",
   "execution_count": 42,
   "metadata": {},
   "outputs": [
    {
     "data": {
      "text/plain": [
       "No_of_Doors  Decision\n",
       "2            unacc       325\n",
       "             acc          81\n",
       "             good         15\n",
       "             vgood        10\n",
       "3            unacc       300\n",
       "             acc          99\n",
       "             good         18\n",
       "             vgood        15\n",
       "4            unacc       292\n",
       "             acc         102\n",
       "             vgood        20\n",
       "             good         18\n",
       "5more        unacc       292\n",
       "             acc         102\n",
       "             vgood        20\n",
       "             good         18\n",
       "Name: Decision, dtype: int64"
      ]
     },
     "execution_count": 42,
     "metadata": {},
     "output_type": "execute_result"
    }
   ],
   "source": [
    "df.groupby('No_of_Doors')['Decision'].value_counts()"
   ]
  },
  {
   "cell_type": "code",
   "execution_count": 43,
   "metadata": {},
   "outputs": [
    {
     "data": {
      "text/plain": [
       "unacc    1209\n",
       "acc       384\n",
       "good       69\n",
       "vgood      65\n",
       "Name: Decision, dtype: int64"
      ]
     },
     "execution_count": 43,
     "metadata": {},
     "output_type": "execute_result"
    }
   ],
   "source": [
    "df['Decision'].value_counts()"
   ]
  },
  {
   "cell_type": "markdown",
   "metadata": {},
   "source": [
    "## Convert string to Numbers"
   ]
  },
  {
   "cell_type": "code",
   "execution_count": 44,
   "metadata": {},
   "outputs": [
    {
     "name": "stdout",
     "output_type": "stream",
     "text": [
      "<class 'pandas.core.frame.DataFrame'>\n",
      "RangeIndex: 1727 entries, 0 to 1726\n",
      "Data columns (total 7 columns):\n",
      " #   Column            Non-Null Count  Dtype\n",
      "---  ------            --------------  -----\n",
      " 0   Buying_Price      1727 non-null   int8 \n",
      " 1   Maintenance_Cost  1727 non-null   int8 \n",
      " 2   No_of_Doors       1727 non-null   int8 \n",
      " 3   No_of_Persons     1727 non-null   int8 \n",
      " 4   Lug_Boot          1727 non-null   int8 \n",
      " 5   Safety            1727 non-null   int8 \n",
      " 6   Decision          1727 non-null   int8 \n",
      "dtypes: int8(7)\n",
      "memory usage: 11.9 KB\n"
     ]
    }
   ],
   "source": [
    "# Find the columns which contain strings and convert into categorical values\n",
    "for label, content in df.items():\n",
    "    if pd.api.types.is_string_dtype(content):\n",
    "        df[label] = content.astype('category').cat.as_ordered()\n",
    "    # and then turn categories into numbers\n",
    "    if not pd.api.types.is_numeric_dtype(content):\n",
    "        df[label] = pd.Categorical(content).codes+1\n",
    "        \n",
    "df.info()"
   ]
  },
  {
   "cell_type": "markdown",
   "metadata": {},
   "source": [
    "## Modelling\n",
    "\n",
    "We've done enough EDA (we could always do more) but lets start modeling..."
   ]
  },
  {
   "cell_type": "code",
   "execution_count": 45,
   "metadata": {},
   "outputs": [
    {
     "data": {
      "text/plain": [
       "0.8901734104046243"
      ]
     },
     "execution_count": 45,
     "metadata": {},
     "output_type": "execute_result"
    }
   ],
   "source": [
    "# split data into X & y\n",
    "X = df.drop('Decision', axis=1)\n",
    "y = df['Decision']\n",
    "\n",
    "# split into train and test set\n",
    "from sklearn.model_selection import train_test_split\n",
    "X_train, X_test, y_train, y_test = train_test_split(X,y, test_size = 0.2, random_state = 42)\n",
    "\n",
    "# instantiate a model\n",
    "from sklearn.neighbors import KNeighborsClassifier\n",
    "model = KNeighborsClassifier()\n",
    "\n",
    "# fit the data\n",
    "model.fit(X_train, y_train)\n",
    "\n",
    "# check the score\n",
    "model.score(X_test, y_test)"
   ]
  },
  {
   "cell_type": "markdown",
   "metadata": {},
   "source": [
    "## Improve  the model"
   ]
  },
  {
   "cell_type": "code",
   "execution_count": 46,
   "metadata": {},
   "outputs": [],
   "source": [
    "test_score = []\n",
    "\n",
    "# Create a list different values for n neighbors\n",
    "neighbors = range(1,21)\n",
    "\n",
    "# setup KNN instance\n",
    "knn = KNeighborsClassifier()\n",
    "\n",
    "# Loop through different neighbors\n",
    "for i in neighbors:\n",
    "    knn.set_params(n_neighbors = i)\n",
    "    \n",
    "    # fit the algorithm\n",
    "    knn.fit(X_train, y_train)\n",
    "    \n",
    "    # Update the testing score list\n",
    "    test_score.append(knn.score(X_test, y_test ))"
   ]
  },
  {
   "cell_type": "markdown",
   "metadata": {},
   "source": [
    "## Plotting the result"
   ]
  },
  {
   "cell_type": "code",
   "execution_count": 47,
   "metadata": {},
   "outputs": [
    {
     "name": "stdout",
     "output_type": "stream",
     "text": [
      "Maximum KNN score on test data : 90.75%\n"
     ]
    },
    {
     "data": {
      "image/png": "[encoded data removed]",
      "text/plain": [
       "<Figure size 432x288 with 1 Axes>"
      ]
     },
     "metadata": {},
     "output_type": "display_data"
    }
   ],
   "source": [
    "plt.plot(neighbors, test_score, label = 'Test_score')\n",
    "\n",
    "plt.xticks(np.arange(1,21,1))\n",
    "plt.xlabel('Number of Neighbors', fontsize=18)\n",
    "plt.ylabel('Model score', fontsize=18)\n",
    "plt.legend()\n",
    "\n",
    "print(f'Maximum KNN score on test data : {max(test_score)*100:.2f}%');"
   ]
  },
  {
   "cell_type": "markdown",
   "metadata": {},
   "source": [
    "## Hyperparameter Tuning Using RandomizedSearchCV"
   ]
  },
  {
   "cell_type": "code",
   "execution_count": 52,
   "metadata": {},
   "outputs": [
    {
     "name": "stdout",
     "output_type": "stream",
     "text": [
      "Fitting 5 folds for each of 20 candidates, totalling 100 fits\n"
     ]
    },
    {
     "name": "stderr",
     "output_type": "stream",
     "text": [
      "[Parallel(n_jobs=1)]: Using backend SequentialBackend with 1 concurrent workers.\n"
     ]
    },
    {
     "name": "stdout",
     "output_type": "stream",
     "text": [
      "Wall time: 6.01 s\n"
     ]
    },
    {
     "name": "stderr",
     "output_type": "stream",
     "text": [
      "[Parallel(n_jobs=1)]: Done 100 out of 100 | elapsed:    5.7s finished\n"
     ]
    },
    {
     "data": {
      "text/plain": [
       "{'p': 1, 'n_neighbors': 5, 'leaf_size': 37}"
      ]
     },
     "execution_count": 52,
     "metadata": {},
     "output_type": "execute_result"
    }
   ],
   "source": [
    "#List Hyperparameters that we want to tune.\n",
    "leaf_size = list(range(1,50))\n",
    "n_neighbors = list(range(1,30))\n",
    "p=[1,2]\n",
    "\n",
    "#Create hyperparameter grid for KNN\n",
    "hyperparameters = dict(leaf_size=leaf_size, n_neighbors=n_neighbors, p=p)\n",
    "\n",
    "#Use RandomizedSearchCV\n",
    "from sklearn.model_selection import RandomizedSearchCV\n",
    "rs_knn = RandomizedSearchCV(KNeighborsClassifier(),\n",
    "                            param_distributions= hyperparameters,\n",
    "                            cv = 5,\n",
    "                            n_iter=20,\n",
    "                            verbose=True)\n",
    "\n",
    "#Fit the model\n",
    "rs_knn.fit(X_train,y_train)\n",
    "\n",
    "#Print The value of best Hyperparameters\n",
    "rs_knn.best_params_"
   ]
  },
  {
   "cell_type": "code",
   "execution_count": 53,
   "metadata": {},
   "outputs": [
    {
     "data": {
      "text/plain": [
       "0.8901734104046243"
      ]
     },
     "execution_count": 53,
     "metadata": {},
     "output_type": "execute_result"
    }
   ],
   "source": [
    "# check the new score\n",
    "rs_knn.score(X_test, y_test)"
   ]
  }
 ],
 "metadata": {
  "kernelspec": {
   "display_name": "Python 3",
   "language": "python",
   "name": "python3"
  },
  "language_info": {
   "codemirror_mode": {
    "name": "ipython",
    "version": 3
   },
   "file_extension": ".py",
   "mimetype": "text/x-python",
   "name": "python",
   "nbconvert_exporter": "python",
   "pygments_lexer": "ipython3",
   "version": "3.7.6"
  }
 },
 "nbformat": 4,
 "nbformat_minor": 4
}
